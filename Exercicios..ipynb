{
 "cells": [
  {
   "cell_type": "markdown",
   "metadata": {},
   "source": [
    "### Exercícios de Python: Manipulação de strins"
   ]
  },
  {
   "cell_type": "code",
   "execution_count": 1,
   "metadata": {},
   "outputs": [
    {
     "name": "stdout",
     "output_type": "stream",
     "text": [
      "Python na escola de programação da Alura\n"
     ]
    }
   ],
   "source": [
    "# 1 - Imprima a frase: Python na Escola de Programação da Alura.\n",
    "\n",
    "print('Python na escola de programação da Alura')"
   ]
  },
  {
   "cell_type": "code",
   "execution_count": 2,
   "metadata": {},
   "outputs": [
    {
     "name": "stdout",
     "output_type": "stream",
     "text": [
      "Meu nome é Adriany e eu tenho 33 anos.\n"
     ]
    }
   ],
   "source": [
    "# 2 - Imprima a frase: Meu nome é {nome} e tenho {idade} anos em que nome e idade precisam ser valores armazenados em variáveis.\n",
    "\n",
    "nome = 'Adriany'\n",
    "idade = '33'\n",
    "\n",
    "print(f'Meu nome é {nome} e eu tenho {idade} anos.')"
   ]
  },
  {
   "cell_type": "code",
   "execution_count": 6,
   "metadata": {},
   "outputs": [
    {
     "name": "stdout",
     "output_type": "stream",
     "text": [
      "A\n",
      "L\n",
      "U\n",
      "R\n",
      "A\n"
     ]
    }
   ],
   "source": [
    "# 3 - Imprima a palavra: ‘ALURA’ de modo que cada letra fique em uma linha, como mostrado a seguir:\n",
    "# A\n",
    "# L\n",
    "# U\n",
    "# R\n",
    "# A\n",
    "\n",
    "print('A','L','U','R','A', sep='\\n')"
   ]
  },
  {
   "cell_type": "code",
   "execution_count": 4,
   "metadata": {},
   "outputs": [
    {
     "name": "stdout",
     "output_type": "stream",
     "text": [
      "O valor de pi arredondado é: 3.14\n"
     ]
    }
   ],
   "source": [
    "# 4 - Imprima a frase: O valor arredondado de pi é: {pi_arredondado} em que o valor de pi precisa ser armazenado em uma variável e arredondado para apenas duas casas decimais. Para facilitar, utilize: pi = 3.14159\n",
    "\n",
    "pi = 3.14159\n",
    "\n",
    "print(f'O valor de pi arredondado é: {pi:.2f}')"
   ]
  },
  {
   "cell_type": "markdown",
   "metadata": {},
   "source": [
    "### Exercícios de Python: Módulos e funções"
   ]
  },
  {
   "cell_type": "code",
   "execution_count": 1,
   "metadata": {},
   "outputs": [
    {
     "name": "stdout",
     "output_type": "stream",
     "text": [
      "neutra\n"
     ]
    }
   ],
   "source": [
    "\n",
    "# Atividade: Imagine que você está desenvolvendo um projeto para um serviço de streaming de música. Sua tarefa é melhorar o algoritmo de recomendação de músicas, garantindo que os usuários recebam sugestões mais precisas com base em seus gêneros favoritos. Para isso, você precisa criar uma função em Python que classifique as sugestões de músicas utilizando estruturas condicionais if, else e elif.\n",
    "\n",
    "# No processo de desenvolvimento, você escreveu a seguinte função para classificar uma música como 'recomendada', 'neutra' ou 'não recomendada' com base na preferência do gênero musical do usuário:\n",
    "\n",
    "\n",
    "def classificar_musica(genero_favorito, genero_musica):\n",
    "    if genero_favorito == genero_musica:\n",
    "        return 'recomendada'\n",
    "    elif genero_favorito == 'Pop' or genero_favorito == 'Rock':\n",
    "        return 'neutra'\n",
    "    else:\n",
    "        return 'não recomendada'\n",
    "\n",
    "resultado = classificar_musica('Rock', 'Pop')\n",
    "print(resultado)\n",
    "\n",
    "# Após analisar a função, determine qual será a saída se o gênero favorito do usuário for 'Rock' e o gênero da música for 'Pop'.\n"
   ]
  },
  {
   "cell_type": "code",
   "execution_count": 7,
   "metadata": {},
   "outputs": [
    {
     "name": "stdout",
     "output_type": "stream",
     "text": [
      "Seu número é ímpar!\n"
     ]
    }
   ],
   "source": [
    "# 1 - Solicite ao usuário que insira um número e, em seguida, use uma estrutura if else para determinar se o número é par ou ímpar.\n",
    "\n",
    "numero = int(input('Olá! Digite qualquer número: '))\n",
    "\n",
    "if numero % 2 == 0: \n",
    "    print('Seu número é par!')\n",
    "else: \n",
    "    print('Seu número é ímpar!')"
   ]
  },
  {
   "cell_type": "code",
   "execution_count": 28,
   "metadata": {},
   "outputs": [
    {
     "name": "stdout",
     "output_type": "stream",
     "text": [
      "Você é adulto!\n"
     ]
    }
   ],
   "source": [
    "# 2 - Pergunte ao usuário sua idade e, com base nisso, use uma estrutura if elif else para classificar a idade em categorias de acordo com as seguintes condições:\n",
    "\n",
    "# Criança: 0 a 12 anos;\n",
    "# Adolescente: 13 a 18 anos;\n",
    "# Adulto: acima de 18 anos.\n",
    "\n",
    "idade = int(input('Olá! Qual é a sua idade?'))\n",
    "\n",
    "if 0 < idade <= 12:\n",
    "    print('Você é criança!')\n",
    "#elif idade >= 13 or idade <= 18: \n",
    "elif 12 < idade < 18:\n",
    "    print('Você é adolescente!')\n",
    "elif idade >= 18:\n",
    "    print('Você é adulto!')\n",
    "else: \n",
    "    print('Valor inválido! Digite novamente.')\n",
    "    \n",
    "    "
   ]
  },
  {
   "cell_type": "code",
   "execution_count": 22,
   "metadata": {},
   "outputs": [
    {
     "name": "stdout",
     "output_type": "stream",
     "text": [
      "Usuário não encontrado! Tente novamente.\n"
     ]
    }
   ],
   "source": [
    "# 3 - Solicite um nome de usuário e uma senha e use uma estrutura if else para verificar se o nome de usuário e a senha fornecidos correspondem aos valores esperados determinados por você.\n",
    "\n",
    "usuario_cadastrado = 'Bernardo'\n",
    "senha_cadastrada = 'Cd34#'\n",
    "\n",
    "usuario = input('Digite sua senha por favor: ')\n",
    "senha = input('Digite sua senha: ')\n",
    "\n",
    "if usuario_cadastrado == usuario and senha_cadastrada == senha:\n",
    "    input('Parabéns! Você entrou!')\n",
    "else: print('Usuário não encontrado! Tente novamente.')\n",
    "\n"
   ]
  },
  {
   "cell_type": "code",
   "execution_count": 36,
   "metadata": {},
   "outputs": [
    {
     "name": "stdout",
     "output_type": "stream",
     "text": [
      "Você está no segundo quadrante!\n"
     ]
    }
   ],
   "source": [
    "# 4 - Solicite ao usuário as coordenadas (x, y) de um ponto qualquer e utilize uma estrutura if elif else para determinar em qual quadrante do plano cartesiano o ponto se encontra de acordo com as seguintes condições:\n",
    "\n",
    "# Primeiro Quadrante: os valores de x e y devem ser maiores que zero;\n",
    "# Segundo Quadrante: o valor de x é menor que zero e o valor de y é maior que zero;\n",
    "# Terceiro Quadrante: os valores de x e y devem ser menores que zero;\n",
    "# Quarto Quadrante: o valor de x é maior que zero e o valor de y é menor que zero;\n",
    "# Caso contrário: o ponto está localizado no eixo ou origem.\n",
    "\n",
    "x = float(input('Insira a coordenada do eixo X: '))\n",
    "y = float(input('Insira a coordenada do eixo Y: '))\n",
    "\n",
    "if x > 0 and y > 0:\n",
    "    print('Você está no primeiro quadrante!')\n",
    "elif x < 0 and y > 0:\n",
    "    print ('Você está no segundo quadrante!')\n",
    "elif x < 0 and y < 0: \n",
    "    print('Você está no terceiro quadrante!')\n",
    "elif x > 0 and y < 0:\n",
    "    print('Você está no quarto quadrante!')\n",
    "else: \n",
    "    print('O ponto está localizado no eixo ou origem.')"
   ]
  },
  {
   "cell_type": "markdown",
   "metadata": {},
   "source": [
    "### Exercícios de Python: Lista, laços e exceções"
   ]
  },
  {
   "cell_type": "code",
   "execution_count": 1,
   "metadata": {},
   "outputs": [
    {
     "name": "stdout",
     "output_type": "stream",
     "text": [
      "[1, 2, 3, 4, 5, 6, 7, 8, 9, 10]\n",
      "['Bernardo', 'Malu', 'Cadu']\n",
      "[1991, 2024]\n"
     ]
    }
   ],
   "source": [
    "# 1 - Crie uma lista para cada informação a seguir:\n",
    "\n",
    "# Lista de números de 1 a 10;\n",
    "numeros = [1, 2, 3, 4, 5, 6, 7, 8, 9, 10]\n",
    "print(numeros)\n",
    "\n",
    "# Lista com quatro nomes;\n",
    "nomes = ['Bernardo', 'Malu', 'Cadu']\n",
    "print(nomes)\n",
    "\n",
    "# Lista com o ano que você nasceu e o ano atual.\n",
    "anos = [1991, 2024]\n",
    "print(anos)"
   ]
  },
  {
   "cell_type": "code",
   "execution_count": 3,
   "metadata": {},
   "outputs": [
    {
     "name": "stdout",
     "output_type": "stream",
     "text": [
      ".Bernardo\n",
      ".Malu\n",
      ".Cadu\n"
     ]
    }
   ],
   "source": [
    "#2 - Crie uma lista e utilize um loop for para percorrer todos os elementos da lista.\n",
    "\n",
    "nomes = ['Bernardo', 'Malu', 'Cadu']\n",
    "\n",
    "for nome in nomes:\n",
    "    print(f'.{nome}')\n"
   ]
  },
  {
   "cell_type": "code",
   "execution_count": 6,
   "metadata": {},
   "outputs": [
    {
     "name": "stdout",
     "output_type": "stream",
     "text": [
      "25\n"
     ]
    }
   ],
   "source": [
    "# 3 - Utilize um loop for para calcular a soma dos números ímpares de 1 a 10.\n",
    "\n",
    "soma_impares = 0\n",
    "\n",
    "for i in range(1, 11, 2):\n",
    "    soma_impares += i\n",
    "print(soma_impares)"
   ]
  },
  {
   "cell_type": "code",
   "execution_count": 8,
   "metadata": {},
   "outputs": [
    {
     "name": "stdout",
     "output_type": "stream",
     "text": [
      "10\n",
      "9\n",
      "8\n",
      "7\n",
      "6\n",
      "5\n",
      "4\n",
      "3\n",
      "2\n",
      "1\n"
     ]
    }
   ],
   "source": [
    "# 4 - Utilize um loop for para imprimir os números de 1 a 10 em ordem decrescente.\n",
    "\n",
    "for i in range(10, 0, -1):\n",
    "    print(i)"
   ]
  },
  {
   "cell_type": "code",
   "execution_count": 7,
   "metadata": {},
   "outputs": [
    {
     "name": "stdout",
     "output_type": "stream",
     "text": [
      "3 x 1 = 3\n",
      "3 x 2 = 6\n",
      "3 x 3 = 9\n",
      "3 x 4 = 12\n",
      "3 x 5 = 15\n",
      "3 x 6 = 18\n",
      "3 x 7 = 21\n",
      "3 x 8 = 24\n",
      "3 x 9 = 27\n",
      "3 x 10 = 30\n"
     ]
    }
   ],
   "source": [
    "# 5 - Solicite ao usuário um número e, em seguida, utilize um loop for para imprimir a tabuada desse número, indo de 1 a 10.\n",
    "\n",
    "numero_secreto = int(input('Digite um número: '))\n",
    "\n",
    "for i in range(1, 11):\n",
    "    resultado = numero_secreto * i\n",
    "    print(f'{numero_secreto} x {i} = {resultado}')\n",
    "\n"
   ]
  },
  {
   "cell_type": "code",
   "execution_count": 9,
   "metadata": {},
   "outputs": [
    {
     "name": "stdout",
     "output_type": "stream",
     "text": [
      "Soma dos elementos: 33\n"
     ]
    }
   ],
   "source": [
    "# 6 - Crie uma lista de números e utilize um loop for para calcular a soma de todos os elementos. Utilize um bloco try-except para lidar com possíveis exceções.\n",
    "\n",
    "lista_numeros = [10, 5, 8, 3, 7]\n",
    "soma = 0\n",
    "\n",
    "try:\n",
    "    for numero in lista_numeros:\n",
    "        soma += numero\n",
    "    print(f\"Soma dos elementos: {soma}\")\n",
    "except Exception as e:\n",
    "    print(f\"Ocorreu um erro: {e}\")"
   ]
  },
  {
   "cell_type": "code",
   "execution_count": 13,
   "metadata": {},
   "outputs": [
    {
     "name": "stdout",
     "output_type": "stream",
     "text": [
      "Média dos valores: 22.5\n"
     ]
    }
   ],
   "source": [
    "# 7 - Construa um código que calcule a média dos valores em uma lista. Utilize um bloco try-except para lidar com a divisão por zero, caso a lista esteja vazia.\n",
    "\n",
    "lista_valores = [15, 20, 25, 30]\n",
    "\n",
    "soma_valores = 0\n",
    "\n",
    "try:\n",
    "    for valor in lista_valores:\n",
    "        soma_valores += valor\n",
    "    media = soma_valores / len(lista_valores)\n",
    "    print(f\"Média dos valores: {media}\")\n",
    "except ZeroDivisionError:\n",
    "    print(\"A lista está vazia, não é possível calcular a média.\")\n",
    "except Exception as e:\n",
    "    print(f\"Ocorreu um erro: {e}\")"
   ]
  },
  {
   "cell_type": "markdown",
   "metadata": {},
   "source": [
    "### Exercícios de Python: Dicionários"
   ]
  },
  {
   "cell_type": "code",
   "execution_count": 11,
   "metadata": {},
   "outputs": [],
   "source": [
    "#1 - Crie um dicionário representando informações sobre uma pessoa, como nome, idade e cidade.\n",
    "\n",
    "infos = {'nome': 'Bernardo', 'idade': 5, 'cidade': 'Recife'}"
   ]
  },
  {
   "cell_type": "code",
   "execution_count": 13,
   "metadata": {},
   "outputs": [
    {
     "name": "stdout",
     "output_type": "stream",
     "text": [
      "{'nome': 'Bernardo', 'idade': 5, 'profissao': 'Segurança'}\n"
     ]
    }
   ],
   "source": [
    "# 2 - Utilizando o dicionário criado no item 1:\n",
    "\n",
    "# Modifique o valor de um dos itens no dicionário (por exemplo, atualize a idade da pessoa);\n",
    "# Adicione um campo de profissão para essa pessoa;\n",
    "# Remova um item do dicionário.\n",
    "\n",
    "infos = {'nome': 'Bernardo', 'idade': 4, 'cidade': 'Recife'}\n",
    "infos['idade'] = 5\n",
    "infos['profissao'] = 'Segurança'\n",
    "del infos['cidade']\n",
    "\n",
    "print(infos)\n"
   ]
  },
  {
   "cell_type": "code",
   "execution_count": 14,
   "metadata": {},
   "outputs": [
    {
     "name": "stdout",
     "output_type": "stream",
     "text": [
      "{1: 1, 2: 4, 3: 9, 4: 16, 5: 25}\n"
     ]
    }
   ],
   "source": [
    "# 3 - Crie um dicionário utilizando para representar números e seus quadrados de 1 a 5.\n",
    "\n",
    "numeros_quadrados = {x: x**2 for x in range(1, 6)}\n",
    "print(numeros_quadrados)\n"
   ]
  },
  {
   "cell_type": "code",
   "execution_count": 21,
   "metadata": {},
   "outputs": [
    {
     "name": "stdout",
     "output_type": "stream",
     "text": [
      "Bernardo existe no dicionário.\n"
     ]
    }
   ],
   "source": [
    "# 4 - Crie um dicionário e verifique se uma chave específica existe dentro desse dicionário.\n",
    "\n",
    "infos = {'nome': 'Bernardo', 'idade': 4, 'cidade': 'Recife'}\n",
    "\n",
    "nome_user = input('Digite o nome a ser verificado: ')\n",
    "\n",
    "if nome_user in infos.values():\n",
    "    print(f'{nome_user} existe no dicionário.')\n",
    "else:\n",
    "    print(f'{nome_user} não existe no dicionário.')"
   ]
  },
  {
   "cell_type": "code",
   "execution_count": 22,
   "metadata": {},
   "outputs": [
    {
     "name": "stdout",
     "output_type": "stream",
     "text": [
      "{'Python': 1, 'se': 1, 'tornou': 1, 'uma': 1, 'das': 1, 'linguagens': 1, 'de': 1, 'programação': 1, 'mais': 1, 'populares': 1, 'do': 1, 'mundo': 1, 'nos': 1, 'últimos': 1, 'anos.': 1}\n"
     ]
    }
   ],
   "source": [
    "# 5 - Escreva um código que conte a frequência de cada palavra em uma frase utilizando um dicionário.\n",
    "\n",
    "frase = \"Python se tornou uma das linguagens de programação mais populares do mundo nos últimos anos.\"\n",
    "contagem_palavras = {}\n",
    "palavras = frase.split()\n",
    "\n",
    "for palavra in palavras:\n",
    "    contagem_palavras[palavra] = contagem_palavras.get(palavra, 0) + 1\n",
    "print(contagem_palavras)"
   ]
  },
  {
   "cell_type": "code",
   "execution_count": 23,
   "metadata": {},
   "outputs": [
    {
     "name": "stdout",
     "output_type": "stream",
     "text": [
      "A frase tem 15 palavras.\n"
     ]
    }
   ],
   "source": [
    "# Extra: como contar o número de palavras de uma frase?\n",
    "\n",
    "frase = \"Python se tornou uma das linguagens de programação mais populares do mundo nos últimos anos.\"\n",
    "\n",
    "# Divide a frase em palavras\n",
    "palavras = frase.split()\n",
    "\n",
    "# Conta o número de palavras\n",
    "numero_de_palavras = len(palavras)\n",
    "\n",
    "print(f\"A frase tem {numero_de_palavras} palavras.\")\n"
   ]
  }
 ],
 "metadata": {
  "kernelspec": {
   "display_name": "base",
   "language": "python",
   "name": "python3"
  },
  "language_info": {
   "codemirror_mode": {
    "name": "ipython",
    "version": 3
   },
   "file_extension": ".py",
   "mimetype": "text/x-python",
   "name": "python",
   "nbconvert_exporter": "python",
   "pygments_lexer": "ipython3",
   "version": "3.12.3"
  }
 },
 "nbformat": 4,
 "nbformat_minor": 2
}
